{
 "cells": [
  {
   "cell_type": "code",
   "execution_count": 3,
   "metadata": {},
   "outputs": [],
   "source": [
    "import csv\n",
    "import sys\n",
    "import pathlib\n",
    "import xml.etree.ElementTree as ET"
   ]
  },
  {
   "cell_type": "markdown",
   "metadata": {},
   "source": [
    "Shiya Mer 102117045 3CS2"
   ]
  },
  {
   "cell_type": "code",
   "execution_count": 6,
   "metadata": {},
   "outputs": [],
   "source": [
    "\n",
    "def xml_to_csv(file_path,csv_name):\n",
    "    tree=ET.parse(file_path)\n",
    "    root=tree.getroot()\n",
    "    with open(csv_name,'w',newline='', encoding='utf-8') as csv_file:\n",
    "        writer=csv.writer(csv_file)\n",
    "        writer.writerow(['seg_id', 'type', 'text'])\n",
    "        for seg in root.findall('.//seg'):\n",
    "            seg_id = seg.attrib.get('id')\n",
    "            seg_type = seg.attrib.get('type')\n",
    "            seg_text = seg.text.strip() if seg.text else ''\n",
    "            writer.writerow([seg_id, seg_type, seg_text])"
   ]
  },
  {
   "cell_type": "code",
   "execution_count": 7,
   "metadata": {},
   "outputs": [],
   "source": [
    "file_path=\"engbible.xml\"\n",
    "csv_name=\"eng.csv\"\n",
    "xml_to_csv(file_path,csv_name)"
   ]
  },
  {
   "cell_type": "code",
   "execution_count": 8,
   "metadata": {},
   "outputs": [],
   "source": [
    "file_path=\"mlbible.xml\"\n",
    "csv_name=\"mal.csv\"\n",
    "xml_to_csv(file_path,csv_name)"
   ]
  },
  {
   "cell_type": "code",
   "execution_count": 9,
   "metadata": {},
   "outputs": [
    {
     "data": {
      "text/plain": [
       "31102"
      ]
     },
     "execution_count": 9,
     "metadata": {},
     "output_type": "execute_result"
    }
   ],
   "source": [
    "import pandas as pd\n",
    "df=pd.read_csv('eng.csv')\n",
    "len(df)"
   ]
  },
  {
   "cell_type": "code",
   "execution_count": 12,
   "metadata": {},
   "outputs": [
    {
     "data": {
      "text/html": [
       "<div>\n",
       "<style scoped>\n",
       "    .dataframe tbody tr th:only-of-type {\n",
       "        vertical-align: middle;\n",
       "    }\n",
       "\n",
       "    .dataframe tbody tr th {\n",
       "        vertical-align: top;\n",
       "    }\n",
       "\n",
       "    .dataframe thead th {\n",
       "        text-align: right;\n",
       "    }\n",
       "</style>\n",
       "<table border=\"1\" class=\"dataframe\">\n",
       "  <thead>\n",
       "    <tr style=\"text-align: right;\">\n",
       "      <th></th>\n",
       "      <th>seg_id</th>\n",
       "      <th>type</th>\n",
       "      <th>text</th>\n",
       "    </tr>\n",
       "  </thead>\n",
       "  <tbody>\n",
       "    <tr>\n",
       "      <th>0</th>\n",
       "      <td>b.GEN.1.1</td>\n",
       "      <td>verse</td>\n",
       "      <td>In the beginning God created the heaven and th...</td>\n",
       "    </tr>\n",
       "    <tr>\n",
       "      <th>1</th>\n",
       "      <td>b.GEN.1.2</td>\n",
       "      <td>verse</td>\n",
       "      <td>And the earth was without form, and void; and ...</td>\n",
       "    </tr>\n",
       "    <tr>\n",
       "      <th>2</th>\n",
       "      <td>b.GEN.1.3</td>\n",
       "      <td>verse</td>\n",
       "      <td>And God said, Let there be light: and there wa...</td>\n",
       "    </tr>\n",
       "    <tr>\n",
       "      <th>3</th>\n",
       "      <td>b.GEN.1.4</td>\n",
       "      <td>verse</td>\n",
       "      <td>And God saw the light, that it was good: and G...</td>\n",
       "    </tr>\n",
       "    <tr>\n",
       "      <th>4</th>\n",
       "      <td>b.GEN.1.5</td>\n",
       "      <td>verse</td>\n",
       "      <td>And God called the light Day, and the darkness...</td>\n",
       "    </tr>\n",
       "    <tr>\n",
       "      <th>...</th>\n",
       "      <td>...</td>\n",
       "      <td>...</td>\n",
       "      <td>...</td>\n",
       "    </tr>\n",
       "    <tr>\n",
       "      <th>31097</th>\n",
       "      <td>b.REV.22.17</td>\n",
       "      <td>verse</td>\n",
       "      <td>And the Spirit and the bride say, Come. And le...</td>\n",
       "    </tr>\n",
       "    <tr>\n",
       "      <th>31098</th>\n",
       "      <td>b.REV.22.18</td>\n",
       "      <td>verse</td>\n",
       "      <td>For I testify unto every man that heareth the ...</td>\n",
       "    </tr>\n",
       "    <tr>\n",
       "      <th>31099</th>\n",
       "      <td>b.REV.22.19</td>\n",
       "      <td>verse</td>\n",
       "      <td>And if any man shall take away from the words ...</td>\n",
       "    </tr>\n",
       "    <tr>\n",
       "      <th>31100</th>\n",
       "      <td>b.REV.22.20</td>\n",
       "      <td>verse</td>\n",
       "      <td>He which testifieth these things saith, Surely...</td>\n",
       "    </tr>\n",
       "    <tr>\n",
       "      <th>31101</th>\n",
       "      <td>b.REV.22.21</td>\n",
       "      <td>verse</td>\n",
       "      <td>The grace of our Lord Jesus Christ be with you...</td>\n",
       "    </tr>\n",
       "  </tbody>\n",
       "</table>\n",
       "<p>31102 rows × 3 columns</p>\n",
       "</div>"
      ],
      "text/plain": [
       "            seg_id   type                                               text\n",
       "0        b.GEN.1.1  verse  In the beginning God created the heaven and th...\n",
       "1        b.GEN.1.2  verse  And the earth was without form, and void; and ...\n",
       "2        b.GEN.1.3  verse  And God said, Let there be light: and there wa...\n",
       "3        b.GEN.1.4  verse  And God saw the light, that it was good: and G...\n",
       "4        b.GEN.1.5  verse  And God called the light Day, and the darkness...\n",
       "...            ...    ...                                                ...\n",
       "31097  b.REV.22.17  verse  And the Spirit and the bride say, Come. And le...\n",
       "31098  b.REV.22.18  verse  For I testify unto every man that heareth the ...\n",
       "31099  b.REV.22.19  verse  And if any man shall take away from the words ...\n",
       "31100  b.REV.22.20  verse  He which testifieth these things saith, Surely...\n",
       "31101  b.REV.22.21  verse  The grace of our Lord Jesus Christ be with you...\n",
       "\n",
       "[31102 rows x 3 columns]"
      ]
     },
     "execution_count": 12,
     "metadata": {},
     "output_type": "execute_result"
    }
   ],
   "source": [
    "df"
   ]
  }
 ],
 "metadata": {
  "kernelspec": {
   "display_name": "base",
   "language": "python",
   "name": "python3"
  },
  "language_info": {
   "codemirror_mode": {
    "name": "ipython",
    "version": 3
   },
   "file_extension": ".py",
   "mimetype": "text/x-python",
   "name": "python",
   "nbconvert_exporter": "python",
   "pygments_lexer": "ipython3",
   "version": "3.11.5"
  }
 },
 "nbformat": 4,
 "nbformat_minor": 2
}
